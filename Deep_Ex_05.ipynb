{
 "cells": [
  {
   "cell_type": "code",
   "execution_count": null,
   "metadata": {
    "colab": {
     "base_uri": "https://localhost:8080/"
    },
    "id": "JZJHgg0udQW4",
    "outputId": "9a09fcfa-e6c0-4fa8-afdb-43333e85f548"
   },
   "outputs": [],
   "source": [
    "from google.colab import drive\n",
    "drive.mount('/content/drive')"
   ]
  },
  {
   "cell_type": "code",
   "execution_count": null,
   "metadata": {
    "id": "lSZFngZwdj38"
   },
   "outputs": [],
   "source": [
    "import torch\n",
    "import torch.nn as nn\n",
    "import torch.nn.functional as F\n",
    "from torch.utils.data import DataLoader\n",
    "from torchvision import datasets, transforms, models # add models to the list\n",
    "from torchvision.utils import make_grid\n",
    "import os\n",
    "\n",
    "import numpy as np\n",
    "import pandas as pd\n",
    "import matplotlib.pyplot as plt\n",
    "%matplotlib inline\n",
    "\n",
    "# ignore harmless warnings\n",
    "import warnings\n",
    "warnings.filterwarnings(\"ignore\")"
   ]
  },
  {
   "cell_type": "code",
   "execution_count": null,
   "metadata": {
    "colab": {
     "base_uri": "https://localhost:8080/"
    },
    "id": "jgx90BxRffLl",
    "outputId": "01142606-13af-4c17-f9fd-63f260d4843f"
   },
   "outputs": [],
   "source": [
    "train_transform = transforms.Compose([\n",
    "        transforms.RandomRotation(10),      # rotate +/- 10 degrees\n",
    "        transforms.RandomHorizontalFlip(),  # reverse 50% of images\n",
    "        transforms.Resize(224),             # resize shortest side to 224 pixels\n",
    "        transforms.CenterCrop(224),         # crop longest side to 224 pixels at center\n",
    "        transforms.ToTensor(),\n",
    "        transforms.Normalize([0.485, 0.456, 0.406],\n",
    "                             [0.229, 0.224, 0.225])\n",
    "    ])\n",
    "\n",
    "test_transform = transforms.Compose([\n",
    "        transforms.Resize(224),\n",
    "        transforms.CenterCrop(224),\n",
    "        transforms.ToTensor(),\n",
    "        transforms.Normalize([0.485, 0.456, 0.406],\n",
    "                             [0.229, 0.224, 0.225])\n",
    "    ])\n",
    "# Name : Mohammed Saajid\n"
   ]
  },
  {
   "cell_type": "code",
   "execution_count": null,
   "metadata": {
    "colab": {
     "base_uri": "https://localhost:8080/"
    },
    "id": "KV_bs7EWfjnU",
    "outputId": "9a99b244-1e11-4a71-cccf-73d9bc5f1e0e"
   },
   "outputs": [],
   "source": [
    "root = '/content/drive/MyDrive/train_test'\n",
    "\n",
    "train_data = datasets.ImageFolder(os.path.join(root, 'Train'), transform=train_transform)\n",
    "test_data = datasets.ImageFolder(os.path.join(root, 'Test'), transform=test_transform)\n",
    "\n",
    "torch.manual_seed(42)\n",
    "train_loader = DataLoader(train_data, batch_size=4, shuffle=True)\n",
    "test_loader = DataLoader(test_data, batch_size=2, shuffle=False)\n",
    "\n",
    "# Name : Mohammed Saajid\n",
    "\n",
    "# Name : Mohammed Saajid\n",
    "print(f'Training images available: {len(train_data)}')\n",
    "print(f'Testing images available:  {len(test_data)}')"
   ]
  },
  {
   "cell_type": "code",
   "execution_count": null,
   "metadata": {
    "id": "i_VGiEzuf65-"
   },
   "outputs": [],
   "source": [
    "VGG19model = models.vgg19(pretrained=True)"
   ]
  },
  {
   "cell_type": "code",
   "execution_count": null,
   "metadata": {
    "id": "lVQiEw3Zg687"
   },
   "outputs": [],
   "source": [
    "# Freeze feature parameters\n",
    "for param in VGG19model.parameters():\n",
    "    param.requires_grad = False"
   ]
  },
  {
   "cell_type": "code",
   "execution_count": null,
   "metadata": {
    "colab": {
     "base_uri": "https://localhost:8080/"
    },
    "id": "oJomjC9zj0kz",
    "outputId": "4c9c8634-5f1d-4dd3-9690-f88868a7f547"
   },
   "outputs": [],
   "source": [
    "# Modify the classifier\n",
    "\n",
    "torch.manual_seed(42)\n",
    "VGG19model.classifier = nn.Sequential(\n",
    "    nn.Linear(25088, 1024),\n",
    "    nn.ReLU(),\n",
    "    nn.Dropout(0.4),\n",
    "    nn.Linear(1024, 2),\n",
    "    nn.LogSoftmax(dim=1)\n",
    ")\n",
    "# Name : Mohammed Saajid\n"
   ]
  },
  {
   "cell_type": "code",
   "execution_count": null,
   "metadata": {
    "colab": {
     "base_uri": "https://localhost:8080/"
    },
    "id": "aXD2K6_aj2zC",
    "outputId": "c11aef55-86f3-429e-d214-884f93ddcc9c"
   },
   "outputs": [],
   "source": [
    "for param in VGG19model.parameters():\n",
    "    print(param.numel())"
   ]
  },
  {
   "cell_type": "code",
   "execution_count": null,
   "metadata": {
    "id": "Gq3MdlJEj5P5"
   },
   "outputs": [],
   "source": [
    "criterion = nn.CrossEntropyLoss()\n",
    "optimizer = torch.optim.Adam(VGG19model.classifier.parameters(), lr=0.001)"
   ]
  },
  {
   "cell_type": "code",
   "execution_count": null,
   "metadata": {
    "colab": {
     "base_uri": "https://localhost:8080/"
    },
    "id": "TIpNDIGMj8Ic",
    "outputId": "ebe64b7f-0137-47d7-d032-1134d4d15e5c"
   },
   "outputs": [],
   "source": [
    "import time\n",
    "start_time = time.time()\n",
    "\n",
    "epochs = 3\n",
    "max_trn_batch = 88  # As per your dataset size\n",
    "max_tst_batch = 20  # As per your test dataset size\n",
    "\n",
    "train_losses = []\n",
    "test_losses = []\n",
    "train_correct = []\n",
    "test_correct = []\n",
    "\n",
    "for i in range(epochs):\n",
    "    trn_corr = 0\n",
    "    tst_corr = 0\n",
    "\n",
    "    # Run the training batches\n",
    "    for b, (X_train, y_train) in enumerate(train_loader):\n",
    "        if b == max_trn_batch:\n",
    "            break\n",
    "        b+=1\n",
    "\n",
    "        # Apply the model\n",
    "        y_pred = VGG19model(X_train)\n",
    "        loss = criterion(y_pred, y_train)\n",
    "\n",
    "        # Tally the number of correct predictions\n",
    "        predicted = torch.max(y_pred.data, 1)[1]\n",
    "        batch_corr = (predicted == y_train).sum()\n",
    "        trn_corr += batch_corr\n",
    "\n",
    "        # Update parameters\n",
    "        optimizer.zero_grad()\n",
    "        loss.backward()\n",
    "        optimizer.step()\n",
    "\n",
    "        # Print interim results\n",
    "        if b % 20 == 0:\n",
    "          acc = trn_corr.item() * 100 / ((b + 1) * train_loader.batch_size)\n",
    "          print(f'Epoch: {i+1}  Batch: {b+1} Loss: {loss.item():.4f} Accuracy: {acc:.2f}%')\n",
    "\n",
    "\n",
    "\n",
    "    train_losses.append(loss)\n",
    "    train_correct.append(trn_corr)\n",
    "\n",
    "    # Run the testing batches\n",
    "    with torch.no_grad():\n",
    "        for b, (X_test, y_test) in enumerate(test_loader):\n",
    "            if b == max_tst_batch:\n",
    "                break\n",
    "\n",
    "            # Apply the model\n",
    "            y_val = VGG19model(X_test)\n",
    "\n",
    "            # Tally the number of correct predictions\n",
    "            predicted = torch.max(y_val.data, 1)[1]\n",
    "            tst_corr += (predicted == y_test).sum()\n",
    "\n",
    "    loss = criterion(y_val, y_test)\n",
    "    test_losses.append(loss)\n",
    "    test_correct.append(tst_corr)\n",
    "\n",
    "print(f'\\nDuration: {time.time() - start_time:.0f} seconds') # print the time elapsed"
   ]
  },
  {
   "cell_type": "code",
   "execution_count": null,
   "metadata": {
    "colab": {
     "base_uri": "https://localhost:8080/"
    },
    "id": "KTS24T25kNHw",
    "outputId": "cd6188ba-0a30-4660-ba46-1153a3112cd3"
   },
   "outputs": [],
   "source": [
    "# Name : Mohammed Saajid\n",
    "print(test_correct)\n",
    "print(f'Test accuracy: {test_correct[-1].item()*100/len(test_data):.3f}%')"
   ]
  },
  {
   "cell_type": "code",
   "execution_count": null,
   "metadata": {
    "colab": {
     "base_uri": "https://localhost:8080/"
    },
    "id": "kGzmA8asmrLZ",
    "outputId": "e0d77834-0ca2-4820-b373-60f3ae87c471"
   },
   "outputs": [],
   "source": [
    "# Inverse normalize the images\n",
    "inv_normalize = transforms.Normalize(\n",
    "    mean=[-0.485/0.229, -0.456/0.224, -0.406/0.225],\n",
    "    std=[1/0.229, 1/0.224, 1/0.225]\n",
    ")\n",
    "# Name : Mohammed Saajid\n"
   ]
  },
  {
   "cell_type": "code",
   "execution_count": null,
   "metadata": {
    "colab": {
     "base_uri": "https://localhost:8080/",
     "height": 452
    },
    "id": "MEoGDEIgm0o4",
    "outputId": "21d27b68-0622-4964-d5ee-3e2f7ffdb424"
   },
   "outputs": [],
   "source": [
    "# Name : Mohammed Saajid\n",
    "image_index = 1\n",
    "im = inv_normalize(test_data[image_index][0])\n",
    "plt.imshow(np.transpose(im.numpy(), (1, 2, 0)));\n",
    "plt.show()"
   ]
  },
  {
   "cell_type": "code",
   "execution_count": null,
   "metadata": {
    "colab": {
     "base_uri": "https://localhost:8080/",
     "height": 36
    },
    "id": "DsU44LQIm27e",
    "outputId": "f666fc83-b160-45d8-ce4a-2bf2f6a44a32"
   },
   "outputs": [],
   "source": [
    "# VGG19 Model Prediction:\n",
    "\n",
    "VGG19model.eval()\n",
    "with torch.no_grad():\n",
    "    new_pred = VGG19model(test_data[image_index][0].view(1,3,224,224)).argmax()\n",
    "\n",
    "# Name : Mohammed Saajid\n"
   ]
  },
  {
   "cell_type": "code",
   "execution_count": null,
   "metadata": {
    "id": "VZI5wNm4m7IW"
   },
   "outputs": [],
   "source": []
  }
 ],
 "metadata": {
  "accelerator": "GPU",
  "colab": {
   "gpuType": "T4",
   "provenance": []
  },
  "kernelspec": {
   "display_name": "Python 3",
   "name": "python3"
  },
  "language_info": {
   "name": "python"
  }
 },
 "nbformat": 4,
 "nbformat_minor": 0
}
